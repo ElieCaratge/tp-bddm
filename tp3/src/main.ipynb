{
 "cells": [
  {
   "cell_type": "markdown",
   "metadata": {},
   "source": [
    "# Introduction : Préparation des données"
   ]
  },
  {
   "cell_type": "code",
   "execution_count": 49,
   "metadata": {},
   "outputs": [
    {
     "name": "stdout",
     "output_type": "stream",
     "text": [
      "Voici les données de travail avec lequels nous allons réaliser ce TP.\n",
      " Les données ont été processées pour être en minuscule et sans ponctuation.\n",
      "\n",
      "+--------------------+--------------------+\n",
      "|            filename|                text|\n",
      "+--------------------+--------------------+\n",
      "| milton-paradise.txt| paradise lost by...|\n",
      "|edgeworth-parents...| the parent  s as...|\n",
      "|     austen-emma.txt| emma by jane aus...|\n",
      "| chesterton-ball.txt| the ball and the...|\n",
      "|       bible-kjv.txt| the king james b...|\n",
      "|chesterton-thursd...| the man who was ...|\n",
      "|     blake-poems.txt| poems by william...|\n",
      "|shakespeare-caesa...| the tragedie of ...|\n",
      "|  whitman-leaves.txt| leaves of grass ...|\n",
      "|melville-moby_dic...| moby dick by her...|\n",
      "+--------------------+--------------------+\n",
      "\n",
      "None\n"
     ]
    }
   ],
   "source": [
    "import json\n",
    "import re\n",
    "from pyspark.sql import SparkSession\n",
    "\n",
    "\n",
    "def get_spark_session_and_df():\n",
    "    spark = SparkSession.builder.getOrCreate()\n",
    "\n",
    "    with open(\"books.json\") as f:\n",
    "        books = json.load(f)\n",
    "\n",
    "    for book in books:\n",
    "        book[\"text\"] = book[\"text\"].lower()\n",
    "        book[\"text\"] = re.sub(r\"[^\\w\\s]\", \"\", book[\"text\"])\n",
    "\n",
    "    df = spark.createDataFrame(books)\n",
    "    return spark, df\n",
    "\n",
    "\n",
    "spark, df = get_spark_session_and_df()\n",
    "print(\n",
    "\"Voici les données de travail avec lequels nous allons réaliser ce TP.\\n\",\n",
    "\"Les données ont été processées pour être en minuscule et sans ponctuation.\\n\",\n",
    ")\n",
    "print(df.show())"
   ]
  },
  {
   "cell_type": "code",
   "execution_count": 50,
   "metadata": {},
   "outputs": [],
   "source": [
    "# Réinitialisation de la session spark entre chaque run\n",
    "spark, df = get_spark_session_and_df()\n",
    "spark.stop()"
   ]
  },
  {
   "cell_type": "markdown",
   "metadata": {},
   "source": [
    "# Exercice 3 : Algorithme naif"
   ]
  },
  {
   "cell_type": "code",
   "execution_count": 51,
   "metadata": {},
   "outputs": [
    {
     "name": "stdout",
     "output_type": "stream",
     "text": [
      "Nombre de mots avec un nombre nombre pair de caractères : 511\n",
      "Nombre de mots avec un nombre nombre impair de caractères : 635\n"
     ]
    }
   ],
   "source": [
    "\n",
    "spark, df = get_spark_session_and_df()\n",
    "\n",
    "all_text = df.select(\"text\").rdd.flatMap(lambda x: x).collect()\n",
    "\n",
    "even_count = 0\n",
    "odd_count = 0\n",
    "for text in all_text:\n",
    "    text = text.split()\n",
    "    for word in text:\n",
    "        if len(word) % 2 == 0:\n",
    "            even_count += 1\n",
    "        else:\n",
    "            odd_count += 1\n",
    "\n",
    "print(f\"Nombre de mots avec un nombre nombre pair de caractères : {even_count}\")\n",
    "print(f\"Nombre de mots avec un nombre nombre impair de caractères : {odd_count}\")\n"
   ]
  },
  {
   "cell_type": "markdown",
   "metadata": {},
   "source": [
    "# Exercice 4 : Algorithme \"MapReduce\""
   ]
  },
  {
   "cell_type": "code",
   "execution_count": null,
   "metadata": {},
   "outputs": [
    {
     "name": "stdout",
     "output_type": "stream",
     "text": [
      "[[], [('even', 1), ('even', 1), ('even', 1), ('even', 1), ('even', 1), ('even', 1), ('even', 1), ('odd', 1), ('even', 1), ('odd', 1), ('odd', 1), ('odd', 1), ('even', 1), ('odd', 1), ('odd', 1), ('odd', 1), ('even', 1), ('even', 1), ('odd', 1), ('even', 1), ('odd', 1), ('even', 1), ('odd', 1), ('odd', 1), ('odd', 1), ('even', 1), ('odd', 1), ('odd', 1), ('odd', 1), ('odd', 1), ('odd', 1), ('odd', 1), ('even', 1), ('even', 1), ('even', 1), ('even', 1), ('even', 1), ('odd', 1), ('odd', 1), ('odd', 1), ('odd', 1), ('even', 1), ('odd', 1), ('even', 1), ('odd', 1), ('even', 1), ('even', 1), ('even', 1), ('even', 1), ('even', 1), ('even', 1), ('even', 1), ('odd', 1), ('even', 1), ('odd', 1), ('even', 1), ('even', 1), ('even', 1), ('even', 1), ('odd', 1), ('odd', 1), ('odd', 1), ('even', 1), ('even', 1), ('odd', 1), ('odd', 1), ('even', 1), ('odd', 1), ('even', 1), ('even', 1), ('even', 1), ('odd', 1), ('odd', 1), ('odd', 1), ('odd', 1), ('odd', 1), ('odd', 1), ('odd', 1), ('even', 1), ('odd', 1), ('even', 1), ('odd', 1), ('even', 1), ('even', 1), ('even', 1), ('even', 1), ('odd', 1), ('even', 1), ('even', 1), ('odd', 1), ('odd', 1), ('odd', 1), ('odd', 1), ('even', 1), ('even', 1), ('even', 1), ('even', 1), ('odd', 1), ('even', 1), ('even', 1), ('odd', 1), ('odd', 1), ('even', 1), ('even', 1), ('odd', 1), ('odd', 1), ('even', 1), ('even', 1), ('odd', 1), ('even', 1), ('even', 1), ('even', 1), ('even', 1), ('even', 1), ('even', 1), ('odd', 1), ('even', 1), ('even', 1), ('odd', 1), ('even', 1), ('even', 1), ('odd', 1), ('odd', 1), ('even', 1), ('odd', 1), ('even', 1), ('odd', 1), ('odd', 1), ('even', 1), ('odd', 1), ('even', 1), ('odd', 1)], [('odd', 1), ('even', 1), ('odd', 1), ('odd', 1), ('even', 1), ('odd', 1), ('odd', 1), ('odd', 1), ('odd', 1), ('even', 1), ('odd', 1), ('odd', 1), ('even', 1), ('odd', 1), ('even', 1), ('even', 1), ('even', 1), ('even', 1), ('odd', 1), ('even', 1), ('odd', 1), ('odd', 1), ('odd', 1), ('even', 1), ('odd', 1), ('odd', 1), ('even', 1), ('odd', 1), ('odd', 1), ('odd', 1), ('odd', 1), ('odd', 1), ('even', 1), ('even', 1), ('even', 1), ('even', 1), ('even', 1), ('odd', 1), ('odd', 1), ('even', 1), ('even', 1), ('even', 1), ('odd', 1), ('odd', 1), ('even', 1), ('odd', 1), ('odd', 1), ('odd', 1), ('odd', 1), ('odd', 1), ('even', 1), ('odd', 1), ('even', 1), ('odd', 1), ('even', 1), ('odd', 1), ('odd', 1), ('even', 1), ('odd', 1), ('even', 1), ('even', 1), ('odd', 1), ('even', 1), ('odd', 1), ('even', 1), ('even', 1), ('odd', 1), ('odd', 1), ('odd', 1), ('odd', 1), ('even', 1), ('odd', 1), ('odd', 1), ('even', 1), ('odd', 1), ('even', 1), ('even', 1), ('even', 1), ('odd', 1), ('odd', 1), ('odd', 1), ('even', 1), ('even', 1), ('even', 1), ('even', 1), ('even', 1), ('odd', 1), ('even', 1), ('even', 1), ('even', 1)], [('even', 1), ('even', 1), ('even', 1), ('even', 1), ('even', 1), ('even', 1), ('odd', 1), ('odd', 1), ('odd', 1), ('even', 1), ('odd', 1), ('even', 1), ('even', 1), ('odd', 1), ('even', 1), ('even', 1), ('odd', 1), ('odd', 1), ('even', 1), ('odd', 1), ('odd', 1), ('odd', 1), ('even', 1), ('even', 1), ('odd', 1), ('even', 1), ('even', 1), ('odd', 1), ('even', 1), ('odd', 1), ('even', 1), ('odd', 1), ('odd', 1), ('odd', 1), ('odd', 1), ('even', 1), ('even', 1), ('odd', 1), ('odd', 1), ('even', 1), ('odd', 1), ('odd', 1), ('even', 1), ('even', 1), ('even', 1), ('even', 1), ('even', 1), ('even', 1), ('odd', 1), ('odd', 1), ('odd', 1), ('odd', 1), ('odd', 1), ('even', 1), ('even', 1), ('odd', 1), ('odd', 1), ('odd', 1), ('even', 1), ('odd', 1), ('even', 1), ('even', 1), ('odd', 1), ('even', 1), ('odd', 1), ('odd', 1), ('even', 1), ('odd', 1), ('even', 1), ('odd', 1), ('even', 1), ('odd', 1), ('even', 1), ('even', 1), ('even', 1), ('even', 1), ('odd', 1), ('odd', 1), ('even', 1), ('odd', 1), ('even', 1), ('odd', 1), ('even', 1), ('odd', 1), ('even', 1), ('odd', 1), ('even', 1), ('odd', 1), ('even', 1), ('odd', 1), ('odd', 1), ('odd', 1), ('even', 1), ('even', 1), ('even', 1), ('even', 1), ('even', 1), ('even', 1), ('odd', 1), ('even', 1), ('odd', 1), ('even', 1), ('odd', 1), ('odd', 1), ('odd', 1), ('odd', 1), ('even', 1), ('even', 1), ('even', 1), ('even', 1), ('odd', 1), ('odd', 1), ('even', 1), ('odd', 1), ('odd', 1), ('odd', 1), ('even', 1), ('even', 1), ('odd', 1), ('even', 1), ('odd', 1), ('even', 1), ('even', 1), ('odd', 1)], [('odd', 1), ('even', 1), ('odd', 1), ('odd', 1), ('odd', 1), ('even', 1), ('odd', 1), ('odd', 1), ('even', 1), ('even', 1), ('odd', 1), ('odd', 1), ('even', 1), ('even', 1), ('even', 1), ('odd', 1), ('odd', 1), ('odd', 1), ('even', 1), ('even', 1), ('even', 1), ('odd', 1), ('odd', 1), ('even', 1), ('odd', 1), ('odd', 1), ('odd', 1), ('even', 1), ('odd', 1), ('even', 1), ('odd', 1), ('odd', 1), ('odd', 1), ('odd', 1), ('odd', 1), ('even', 1), ('even', 1), ('even', 1), ('even', 1), ('odd', 1), ('odd', 1), ('even', 1), ('odd', 1), ('even', 1), ('odd', 1), ('odd', 1), ('even', 1), ('even', 1), ('odd', 1), ('odd', 1), ('odd', 1), ('odd', 1), ('odd', 1), ('odd', 1), ('even', 1), ('even', 1), ('odd', 1), ('even', 1), ('even', 1), ('odd', 1), ('odd', 1), ('odd', 1), ('even', 1), ('even', 1), ('even', 1), ('even', 1), ('even', 1), ('even', 1), ('odd', 1), ('odd', 1), ('odd', 1), ('odd', 1), ('odd', 1), ('odd', 1), ('odd', 1), ('odd', 1), ('even', 1), ('odd', 1), ('even', 1), ('odd', 1), ('odd', 1), ('odd', 1), ('even', 1), ('even', 1), ('even', 1), ('even', 1), ('even', 1), ('even', 1)], [('odd', 1), ('even', 1), ('odd', 1), ('odd', 1), ('odd', 1), ('odd', 1), ('odd', 1), ('even', 1), ('odd', 1), ('even', 1), ('odd', 1), ('odd', 1), ('odd', 1), ('odd', 1), ('even', 1), ('even', 1), ('odd', 1), ('even', 1), ('odd', 1), ('odd', 1), ('odd', 1), ('even', 1), ('odd', 1), ('odd', 1), ('odd', 1), ('odd', 1), ('odd', 1), ('even', 1), ('odd', 1), ('odd', 1), ('odd', 1), ('odd', 1), ('odd', 1), ('odd', 1), ('odd', 1), ('odd', 1), ('odd', 1), ('odd', 1), ('even', 1), ('odd', 1), ('even', 1), ('odd', 1), ('even', 1), ('odd', 1), ('even', 1), ('odd', 1), ('even', 1), ('even', 1), ('odd', 1), ('even', 1), ('odd', 1), ('odd', 1), ('even', 1), ('even', 1), ('odd', 1), ('odd', 1), ('even', 1), ('odd', 1), ('even', 1), ('even', 1), ('odd', 1), ('even', 1), ('odd', 1), ('odd', 1), ('odd', 1), ('odd', 1), ('even', 1), ('odd', 1), ('odd', 1), ('even', 1), ('odd', 1), ('odd', 1), ('odd', 1), ('odd', 1), ('odd', 1), ('odd', 1), ('odd', 1), ('odd', 1), ('odd', 1), ('odd', 1), ('odd', 1), ('odd', 1), ('even', 1), ('even', 1), ('odd', 1), ('even', 1), ('odd', 1), ('odd', 1), ('odd', 1), ('odd', 1), ('odd', 1), ('even', 1), ('odd', 1), ('even', 1), ('odd', 1), ('odd', 1), ('odd', 1), ('odd', 1), ('even', 1), ('odd', 1), ('odd', 1), ('odd', 1), ('odd', 1), ('odd', 1), ('even', 1), ('even', 1), ('even', 1), ('odd', 1), ('odd', 1), ('odd', 1), ('odd', 1), ('odd', 1), ('odd', 1), ('odd', 1), ('even', 1), ('odd', 1), ('odd', 1), ('odd', 1)], [], [('odd', 1), ('odd', 1), ('odd', 1), ('odd', 1), ('even', 1), ('even', 1), ('odd', 1), ('odd', 1), ('even', 1), ('even', 1), ('even', 1), ('even', 1), ('even', 1), ('odd', 1), ('odd', 1), ('odd', 1), ('odd', 1), ('even', 1), ('odd', 1), ('even', 1), ('even', 1), ('odd', 1), ('odd', 1), ('odd', 1), ('even', 1), ('odd', 1), ('odd', 1), ('odd', 1), ('odd', 1), ('even', 1), ('odd', 1), ('even', 1), ('odd', 1), ('even', 1), ('even', 1), ('even', 1), ('even', 1), ('even', 1), ('even', 1), ('odd', 1), ('odd', 1), ('odd', 1), ('odd', 1), ('odd', 1), ('odd', 1), ('odd', 1), ('odd', 1), ('odd', 1), ('odd', 1), ('odd', 1), ('odd', 1), ('odd', 1), ('odd', 1), ('odd', 1), ('odd', 1), ('odd', 1), ('even', 1), ('odd', 1), ('odd', 1), ('even', 1), ('even', 1), ('odd', 1), ('odd', 1), ('odd', 1), ('even', 1), ('odd', 1), ('even', 1), ('even', 1), ('even', 1), ('odd', 1), ('even', 1), ('odd', 1), ('even', 1), ('even', 1), ('even', 1), ('odd', 1), ('even', 1), ('odd', 1), ('odd', 1), ('even', 1), ('odd', 1), ('odd', 1), ('even', 1), ('even', 1), ('even', 1), ('even', 1), ('odd', 1), ('odd', 1), ('odd', 1), ('odd', 1), ('odd', 1), ('even', 1), ('odd', 1), ('odd', 1), ('odd', 1), ('odd', 1), ('even', 1), ('odd', 1), ('even', 1), ('odd', 1), ('odd', 1), ('even', 1), ('odd', 1), ('odd', 1), ('odd', 1), ('even', 1), ('odd', 1), ('odd', 1), ('odd', 1), ('odd', 1), ('odd', 1), ('even', 1), ('odd', 1), ('odd', 1), ('odd', 1), ('odd', 1), ('even', 1), ('odd', 1), ('even', 1), ('even', 1), ('odd', 1), ('odd', 1), ('odd', 1), ('even', 1), ('odd', 1)], [('odd', 1), ('even', 1), ('odd', 1), ('odd', 1), ('even', 1), ('odd', 1), ('even', 1), ('odd', 1), ('odd', 1), ('even', 1), ('even', 1), ('odd', 1), ('odd', 1), ('even', 1), ('even', 1), ('even', 1), ('odd', 1), ('even', 1), ('odd', 1), ('even', 1), ('even', 1), ('even', 1), ('odd', 1), ('odd', 1), ('even', 1), ('even', 1), ('odd', 1), ('even', 1), ('even', 1), ('even', 1), ('even', 1), ('odd', 1), ('odd', 1), ('odd', 1), ('odd', 1), ('odd', 1), ('odd', 1), ('odd', 1), ('even', 1), ('even', 1), ('even', 1), ('even', 1), ('even', 1), ('even', 1), ('odd', 1), ('even', 1), ('odd', 1), ('odd', 1), ('even', 1), ('even', 1), ('odd', 1), ('odd', 1), ('even', 1), ('odd', 1), ('odd', 1), ('odd', 1), ('even', 1), ('even', 1), ('even', 1), ('odd', 1), ('even', 1), ('odd', 1), ('odd', 1), ('even', 1), ('even', 1), ('even', 1), ('even', 1), ('even', 1), ('odd', 1), ('even', 1), ('odd', 1), ('odd', 1), ('even', 1), ('even', 1), ('odd', 1), ('odd', 1), ('even', 1), ('odd', 1), ('odd', 1), ('even', 1), ('odd', 1), ('even', 1), ('odd', 1), ('even', 1), ('odd', 1), ('odd', 1), ('even', 1), ('even', 1), ('even', 1), ('odd', 1), ('even', 1), ('even', 1), ('odd', 1), ('odd', 1), ('even', 1), ('even', 1), ('odd', 1), ('odd', 1), ('even', 1), ('odd', 1), ('even', 1), ('even', 1), ('odd', 1), ('odd', 1), ('even', 1), ('even', 1), ('even', 1), ('even', 1), ('odd', 1), ('even', 1), ('even', 1), ('odd', 1), ('odd', 1), ('odd', 1), ('odd', 1), ('odd', 1), ('odd', 1), ('even', 1), ('even', 1), ('odd', 1), ('odd', 1), ('even', 1), ('odd', 1), ('odd', 1), ('odd', 1), ('odd', 1), ('odd', 1), ('odd', 1), ('odd', 1), ('odd', 1), ('odd', 1), ('odd', 1), ('odd', 1), ('odd', 1), ('odd', 1), ('even', 1), ('odd', 1), ('odd', 1), ('odd', 1), ('odd', 1), ('odd', 1), ('odd', 1), ('even', 1), ('even', 1)], [('odd', 1), ('even', 1), ('even', 1), ('even', 1), ('even', 1), ('even', 1), ('odd', 1), ('odd', 1), ('even', 1), ('odd', 1), ('even', 1), ('even', 1), ('odd', 1), ('odd', 1), ('odd', 1), ('even', 1), ('odd', 1), ('even', 1), ('odd', 1), ('even', 1), ('odd', 1), ('odd', 1), ('odd', 1), ('odd', 1), ('even', 1), ('odd', 1), ('even', 1), ('odd', 1), ('odd', 1), ('odd', 1), ('even', 1), ('even', 1), ('even', 1), ('odd', 1), ('odd', 1), ('even', 1), ('even', 1), ('odd', 1), ('odd', 1), ('odd', 1), ('odd', 1), ('odd', 1), ('odd', 1), ('odd', 1), ('odd', 1), ('even', 1), ('odd', 1), ('odd', 1), ('odd', 1), ('odd', 1), ('odd', 1), ('odd', 1), ('even', 1), ('even', 1), ('even', 1), ('even', 1), ('even', 1), ('odd', 1), ('odd', 1), ('even', 1), ('odd', 1), ('odd', 1), ('odd', 1), ('odd', 1), ('odd', 1), ('odd', 1), ('odd', 1), ('even', 1), ('odd', 1), ('odd', 1), ('odd', 1), ('odd', 1), ('odd', 1), ('even', 1), ('even', 1), ('even', 1), ('even', 1), ('even', 1), ('odd', 1), ('even', 1), ('odd', 1), ('even', 1), ('odd', 1), ('odd', 1), ('even', 1), ('odd', 1), ('odd', 1), ('odd', 1), ('even', 1), ('even', 1), ('odd', 1), ('even', 1), ('odd', 1), ('even', 1), ('odd', 1), ('even', 1), ('odd', 1), ('odd', 1), ('even', 1), ('odd', 1), ('even', 1), ('odd', 1), ('odd', 1), ('odd', 1), ('odd', 1), ('even', 1), ('odd', 1), ('odd', 1), ('even', 1), ('odd', 1), ('odd', 1), ('even', 1), ('even', 1), ('even', 1), ('even', 1), ('odd', 1), ('odd', 1), ('odd', 1), ('odd', 1), ('even', 1), ('odd', 1), ('even', 1), ('odd', 1), ('odd', 1), ('odd', 1), ('even', 1), ('odd', 1), ('even', 1), ('even', 1), ('odd', 1), ('even', 1), ('even', 1), ('odd', 1), ('odd', 1), ('even', 1), ('even', 1), ('odd', 1), ('even', 1), ('odd', 1)], [('even', 1), ('even', 1), ('odd', 1), ('even', 1), ('even', 1), ('odd', 1), ('even', 1), ('even', 1), ('even', 1), ('even', 1), ('even', 1), ('even', 1), ('even', 1), ('odd', 1), ('even', 1), ('even', 1), ('odd', 1), ('even', 1), ('odd', 1), ('odd', 1), ('even', 1), ('odd', 1), ('odd', 1), ('even', 1), ('even', 1), ('odd', 1), ('odd', 1), ('even', 1), ('even', 1), ('even', 1), ('even', 1), ('odd', 1), ('even', 1), ('odd', 1), ('odd', 1), ('odd', 1), ('even', 1), ('even', 1), ('odd', 1), ('even', 1), ('odd', 1), ('odd', 1), ('even', 1), ('even', 1), ('even', 1), ('odd', 1), ('odd', 1), ('even', 1), ('odd', 1), ('odd', 1), ('even', 1), ('odd', 1), ('even', 1), ('even', 1), ('odd', 1), ('odd', 1), ('odd', 1), ('odd', 1), ('odd', 1), ('even', 1), ('even', 1), ('even', 1), ('odd', 1), ('even', 1), ('odd', 1), ('odd', 1), ('even', 1), ('even', 1), ('even', 1), ('odd', 1), ('odd', 1), ('even', 1), ('odd', 1), ('odd', 1), ('odd', 1), ('odd', 1), ('even', 1), ('odd', 1), ('even', 1), ('odd', 1), ('even', 1), ('even', 1), ('even', 1), ('even', 1), ('even', 1), ('odd', 1), ('even', 1), ('odd', 1), ('even', 1), ('odd', 1), ('odd', 1), ('even', 1), ('odd', 1), ('even', 1), ('odd', 1), ('odd', 1), ('even', 1), ('odd', 1), ('even', 1), ('odd', 1), ('even', 1), ('even', 1), ('even', 1), ('odd', 1), ('odd', 1), ('odd', 1), ('even', 1), ('even', 1), ('odd', 1), ('even', 1), ('even', 1), ('odd', 1)], [('even', 1), ('even', 1), ('even', 1), ('even', 1), ('even', 1), ('even', 1), ('odd', 1), ('even', 1), ('even', 1), ('odd', 1), ('even', 1), ('odd', 1), ('odd', 1), ('even', 1), ('odd', 1), ('odd', 1), ('even', 1), ('odd', 1), ('even', 1), ('odd', 1), ('even', 1), ('even', 1), ('even', 1), ('odd', 1), ('even', 1), ('odd', 1), ('odd', 1), ('odd', 1), ('odd', 1), ('odd', 1), ('odd', 1), ('even', 1), ('odd', 1), ('even', 1), ('odd', 1), ('odd', 1), ('odd', 1), ('even', 1), ('odd', 1), ('even', 1), ('even', 1), ('odd', 1), ('odd', 1), ('even', 1), ('odd', 1), ('odd', 1), ('even', 1), ('odd', 1), ('odd', 1), ('odd', 1), ('odd', 1), ('even', 1), ('odd', 1), ('odd', 1), ('odd', 1), ('odd', 1), ('even', 1), ('odd', 1), ('odd', 1), ('even', 1), ('odd', 1), ('even', 1), ('even', 1), ('odd', 1), ('odd', 1), ('even', 1), ('even', 1), ('odd', 1), ('even', 1), ('even', 1), ('odd', 1), ('even', 1), ('odd', 1), ('odd', 1)]]\n",
      "[[('even', 511)], [('odd', 635)], [], [], [], [], [], [], [], [], [], []]\n",
      "(12) PythonRDD[285] at RDD at PythonRDD.scala:53 []\n",
      " |   MapPartitionsRDD[283] at mapPartitions at PythonRDD.scala:160 []\n",
      " |   ShuffledRDD[282] at partitionBy at <unknown>:0 []\n",
      " +-(12) PairwiseRDD[281] at reduceByKey at /var/folders/w4/3c1j_r11699bdlzk7nb6g4nm0000gn/T/ipykernel_45150/2775284772.py:13 []\n",
      "    |   PythonRDD[280] at reduceByKey at /var/folders/w4/3c1j_r11699bdlzk7nb6g4nm0000gn/T/ipykernel_45150/2775284772.py:13 []\n",
      "    |   MapPartitionsRDD[278] at javaToPython at <unknown>:0 []\n",
      "    |   MapPartitionsRDD[277] at javaToPython at <unknown>:0 []\n",
      "    |   SQLExecutionRDD[276] at javaToPython at <unknown>:0 []\n",
      "    |   MapPartitionsRDD[275] at javaToPython at <unknown>:0 []\n",
      "    |   MapPartitionsRDD[274] at applySchemaToPythonRDD at <unknown>:0 []\n",
      "    |   MapPartitionsRDD[273] at map at SerDeUtil.scala:69 []\n",
      "    |   MapPartitionsRDD[272] at mapPartitions at SerDeUtil.scala:117 []\n",
      "    |   PythonRDD[271] at RDD at PythonRDD.scala:53 []\n",
      "    |   ParallelCollectionRDD[270] at readRDDFromFile at PythonRDD.scala:289 []\n",
      "Nombre de mots avec un nombre pair de caractères : 511\n",
      "Nombre de mots avec un nombre impair de caractères : 635\n"
     ]
    }
   ],
   "source": [
    "\n",
    "spark, df = get_spark_session_and_df()\n",
    "\n",
    "\n",
    "print(df.glom().collect())\n",
    "\n",
    "text_rdd = df.select(\"text\").rdd.flatMap(lambda x: x)\n",
    "# On crée un RDD de tuples (parité, 1) pour chaque mot\n",
    "word_parity_rdd = text_rdd.flatMap(\n",
    "    lambda text: [\n",
    "        (\"even\" if len(word) % 2 == 0 else \"odd\", 1)\n",
    "        for word in text.split()\n",
    "    ]\n",
    ")\n",
    "print(word_parity_rdd.glom().collect())\n",
    "parity_counts = word_parity_rdd.reduceByKey(lambda x, y: x + y)\n",
    "print(parity_counts.glom().collect())\n",
    "print(parity_counts.toDebugString().decode('utf-8'))\n",
    "\n",
    "parity_counts = parity_counts.collect()\n",
    "\n",
    "print(f\"Nombre de mots avec un nombre pair de caractères : {parity_counts[0][1]}\")\n",
    "print(f\"Nombre de mots avec un nombre impair de caractères : {parity_counts[1][1]}\")\n",
    "\n"
   ]
  },
  {
   "cell_type": "code",
   "execution_count": null,
   "metadata": {},
   "outputs": [],
   "source": []
  },
  {
   "cell_type": "markdown",
   "metadata": {},
   "source": [
    "# Exercice 5 : Décompte de la fréquence de chaque mot"
   ]
  },
  {
   "cell_type": "code",
   "execution_count": 53,
   "metadata": {},
   "outputs": [
    {
     "name": "stdout",
     "output_type": "stream",
     "text": [
      "+------------+-----+\n",
      "|words       |count|\n",
      "+------------+-----+\n",
      "|us          |3    |\n",
      "|sion        |1    |\n",
      "|who         |3    |\n",
      "|by          |12   |\n",
      "|above       |3    |\n",
      "|aonian      |1    |\n",
      "|more        |2    |\n",
      "|man         |3    |\n",
      "|heavenly    |1    |\n",
      "|thy         |7    |\n",
      "|milton      |1    |\n",
      "|lost        |3    |\n",
      "|muse        |1    |\n",
      "|brook       |1    |\n",
      "|shepherd    |1    |\n",
      "|woe         |1    |\n",
      "|how         |1    |\n",
      "|top         |1    |\n",
      "|thee        |2    |\n",
      "|disobedience|1    |\n",
      "+------------+-----+\n",
      "only showing top 20 rows\n",
      "\n",
      "None\n"
     ]
    }
   ],
   "source": [
    "import pyspark.sql.functions as F\n",
    "\n",
    "spark, df = get_spark_session_and_df()\n",
    "\n",
    "df = df.withColumn(\"words\", F.explode(F.split(F.col(\"text\"), \" \")))\n",
    "\n",
    "word_counts = df.groupBy(\"words\").count()\n",
    "print(word_counts.show(truncate=False))"
   ]
  }
 ],
 "metadata": {
  "kernelspec": {
   "display_name": ".venv",
   "language": "python",
   "name": "python3"
  },
  "language_info": {
   "codemirror_mode": {
    "name": "ipython",
    "version": 3
   },
   "file_extension": ".py",
   "mimetype": "text/x-python",
   "name": "python",
   "nbconvert_exporter": "python",
   "pygments_lexer": "ipython3",
   "version": "3.13.0"
  }
 },
 "nbformat": 4,
 "nbformat_minor": 2
}
